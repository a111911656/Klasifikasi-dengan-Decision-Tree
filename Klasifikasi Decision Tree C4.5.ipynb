{
 "cells": [
  {
   "cell_type": "code",
   "execution_count": 1,
   "id": "44274a85",
   "metadata": {},
   "outputs": [],
   "source": [
    "import numpy as np\n",
    "import pandas as pd\n",
    "from sklearn import tree"
   ]
  },
  {
   "cell_type": "code",
   "execution_count": 2,
   "id": "432559ef",
   "metadata": {},
   "outputs": [],
   "source": [
    "dataset = pd.read_excel('Indeks Standar Pencemaran Udara di Provinsi DKI Jakarta.xlsx')"
   ]
  },
  {
   "cell_type": "code",
   "execution_count": 3,
   "id": "f0239b0a",
   "metadata": {},
   "outputs": [],
   "source": [
    "dataset[\"categori\"] = pd.factorize(dataset.categori)[0]"
   ]
  },
  {
   "cell_type": "code",
   "execution_count": 4,
   "id": "14dc5ecc",
   "metadata": {},
   "outputs": [],
   "source": [
    "dataset = dataset.drop(labels=\"bulan\", axis=1)\n",
    "dataset = dataset.drop(labels=\"daerah\", axis=1)\n",
    "dataset = dataset.drop(labels=\"max\", axis=1)\n",
    "dataset = dataset.drop(labels=\"critical\", axis=1)"
   ]
  },
  {
   "cell_type": "code",
   "execution_count": 5,
   "id": "983cf75c",
   "metadata": {},
   "outputs": [],
   "source": [
    "dataset = dataset.to_numpy()"
   ]
  },
  {
   "cell_type": "code",
   "execution_count": 6,
   "id": "0deacb76",
   "metadata": {},
   "outputs": [],
   "source": [
    "dataTraining = np.concatenate((dataset[0:111, :], dataset[139:250, :]), axis=0)\n",
    "dataTesting = np.concatenate((dataset[111:139, :], dataset[250:278, :]), axis=0)"
   ]
  },
  {
   "cell_type": "code",
   "execution_count": 7,
   "id": "7224cad7",
   "metadata": {},
   "outputs": [],
   "source": [
    "inputTraining = dataTraining[:, 0:6]\n",
    "inputTesting = dataTesting[:, 0:6]\n",
    "labelTraining = dataTraining[:, -1]\n",
    "labelTesting = dataTesting[:, -1]"
   ]
  },
  {
   "cell_type": "code",
   "execution_count": 8,
   "id": "12e87218",
   "metadata": {},
   "outputs": [],
   "source": [
    "model = tree.DecisionTreeClassifier()"
   ]
  },
  {
   "cell_type": "code",
   "execution_count": 9,
   "id": "aaed777b",
   "metadata": {},
   "outputs": [],
   "source": [
    "model = model.fit(inputTraining, labelTraining)"
   ]
  },
  {
   "cell_type": "code",
   "execution_count": 10,
   "id": "78b9f89a",
   "metadata": {},
   "outputs": [
    {
     "name": "stdout",
     "output_type": "stream",
     "text": [
      "Label sebenarnya :  [1 1 1 1 1 1 0 0 0 1 1 1 0 1 1 1 0 0 0 1 0 1 1 0 1 1 1 0 0 2 0 0 1 1 2 0 0\n",
      " 2 0 0 0 0 2 0 0 0 0 0 0 0 2 0 2 0 0]\n",
      "Hasil prediksi   :  [1 1 1 1 1 1 0 0 0 1 1 1 0 1 1 1 0 0 0 1 0 1 1 0 1 1 1 0 0 2 0 0 1 1 2 0 0\n",
      " 2 0 0 0 0 2 0 0 0 0 0 0 0 2 0 2 0 0]\n"
     ]
    }
   ],
   "source": [
    "hasilPrediksi = model.predict(inputTesting)\n",
    "print(\"Label sebenarnya : \", labelTesting)\n",
    "print(\"Hasil prediksi   : \", hasilPrediksi)"
   ]
  },
  {
   "cell_type": "code",
   "execution_count": 11,
   "id": "e0a2e072",
   "metadata": {},
   "outputs": [
    {
     "name": "stdout",
     "output_type": "stream",
     "text": [
      "Prediksi Benar :  55 data\n",
      "Prediksi Salah :  0 data\n",
      "Akurasi :  100.0 %\n"
     ]
    }
   ],
   "source": [
    "prediksiBenar = (hasilPrediksi == labelTesting).sum()\n",
    "prediksiSalah = (hasilPrediksi != labelTesting).sum()\n",
    "print(\"Prediksi Benar : \",prediksiBenar, \"data\")\n",
    "print(\"Prediksi Salah : \",prediksiSalah, \"data\")\n",
    "print(\"Akurasi : \", prediksiBenar/(prediksiBenar+prediksiSalah)*100, \"%\")"
   ]
  }
 ],
 "metadata": {
  "kernelspec": {
   "display_name": "Python 3 (ipykernel)",
   "language": "python",
   "name": "python3"
  },
  "language_info": {
   "codemirror_mode": {
    "name": "ipython",
    "version": 3
   },
   "file_extension": ".py",
   "mimetype": "text/x-python",
   "name": "python",
   "nbconvert_exporter": "python",
   "pygments_lexer": "ipython3",
   "version": "3.9.7"
  }
 },
 "nbformat": 4,
 "nbformat_minor": 5
}
